{
 "cells": [
  {
   "cell_type": "code",
   "execution_count": 1,
   "id": "b37fd3ca",
   "metadata": {},
   "outputs": [],
   "source": [
    "#importing stuff\n",
    "import numpy as np\n",
    "import pandas as pd\n",
    "import json\n",
    "import os #used to cycle through your files\n",
    "import re"
   ]
  },
  {
   "cell_type": "code",
   "execution_count": null,
   "id": "c2e18a89",
   "metadata": {},
   "outputs": [],
   "source": [
    "# reading in data from \n",
    "#   https://www.kaggle.com/datasets/mariotormo/complete-pokemon-dataset-updated-090420\n",
    "\n",
    "pokedex = pd.read_csv('PGarchive/pokedex.csv')\n",
    "#pogo.head()\n",
    "\n"
   ]
  }
 ],
 "metadata": {
  "kernelspec": {
   "display_name": "Python 3 (ipykernel)",
   "language": "python",
   "name": "python3"
  },
  "language_info": {
   "codemirror_mode": {
    "name": "ipython",
    "version": 3
   },
   "file_extension": ".py",
   "mimetype": "text/x-python",
   "name": "python",
   "nbconvert_exporter": "python",
   "pygments_lexer": "ipython3",
   "version": "3.9.12"
  }
 },
 "nbformat": 4,
 "nbformat_minor": 5
}
